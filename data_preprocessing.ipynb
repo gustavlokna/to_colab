{
 "cells": [
  {
   "cell_type": "markdown",
   "metadata": {},
   "source": [
    "# Data Loading, Data Cleaning (Outlier, ...), Feature Engineering,  \n"
   ]
  },
  {
   "cell_type": "code",
   "execution_count": 75,
   "metadata": {},
   "outputs": [
    {
     "name": "stdout",
     "output_type": "stream",
     "text": [
      "The autoreload extension is already loaded. To reload it, use:\n",
      "  %reload_ext autoreload\n"
     ]
    }
   ],
   "source": [
    "%load_ext autoreload"
   ]
  },
  {
   "cell_type": "code",
   "execution_count": 76,
   "metadata": {},
   "outputs": [],
   "source": [
    "%autoreload\n",
    "from src.dataloader import *\n",
    "from src.functions import * \n",
    "data = load_data(\"data\")\n"
   ]
  },
  {
   "cell_type": "markdown",
   "metadata": {},
   "source": [
    "# Data preprosessing, with removing unwanted values in Y, taking the mean of all values during one hour in x and moving them into X"
   ]
  },
  {
   "cell_type": "code",
   "execution_count": 77,
   "metadata": {
    "tags": []
   },
   "outputs": [
    {
     "name": "stderr",
     "output_type": "stream",
     "text": [
      "C:\\Users\\Gustav\\Documents\\maskinlaering\\ML_prosject\\Johan_Mvp\\Johan_mvp\\src\\functions.py:201: FutureWarning: The default value of numeric_only in DataFrameGroupBy.mean is deprecated. In a future version, numeric_only will default to False. Either specify numeric_only or select only columns which should be valid for the function.\n",
      "  phase_adjustment = (np.pi/2) - 11 * (2 * np.pi / 24)\n",
      "C:\\Users\\Gustav\\Documents\\maskinlaering\\ML_prosject\\Johan_Mvp\\Johan_mvp\\src\\functions.py:201: FutureWarning: The default value of numeric_only in DataFrameGroupBy.mean is deprecated. In a future version, numeric_only will default to False. Either specify numeric_only or select only columns which should be valid for the function.\n",
      "  phase_adjustment = (np.pi/2) - 11 * (2 * np.pi / 24)\n",
      "C:\\Users\\Gustav\\Documents\\maskinlaering\\ML_prosject\\Johan_Mvp\\Johan_mvp\\src\\functions.py:201: FutureWarning: The default value of numeric_only in DataFrameGroupBy.mean is deprecated. In a future version, numeric_only will default to False. Either specify numeric_only or select only columns which should be valid for the function.\n",
      "  phase_adjustment = (np.pi/2) - 11 * (2 * np.pi / 24)\n",
      "C:\\Users\\Gustav\\Documents\\maskinlaering\\ML_prosject\\Johan_Mvp\\Johan_mvp\\src\\functions.py:201: FutureWarning: The default value of numeric_only in DataFrameGroupBy.mean is deprecated. In a future version, numeric_only will default to False. Either specify numeric_only or select only columns which should be valid for the function.\n",
      "  phase_adjustment = (np.pi/2) - 11 * (2 * np.pi / 24)\n",
      "C:\\Users\\Gustav\\Documents\\maskinlaering\\ML_prosject\\Johan_Mvp\\Johan_mvp\\src\\functions.py:201: FutureWarning: The default value of numeric_only in DataFrameGroupBy.mean is deprecated. In a future version, numeric_only will default to False. Either specify numeric_only or select only columns which should be valid for the function.\n",
      "  phase_adjustment = (np.pi/2) - 11 * (2 * np.pi / 24)\n",
      "C:\\Users\\Gustav\\Documents\\maskinlaering\\ML_prosject\\Johan_Mvp\\Johan_mvp\\src\\functions.py:201: FutureWarning: The default value of numeric_only in DataFrameGroupBy.mean is deprecated. In a future version, numeric_only will default to False. Either specify numeric_only or select only columns which should be valid for the function.\n",
      "  phase_adjustment = (np.pi/2) - 11 * (2 * np.pi / 24)\n"
     ]
    }
   ],
   "source": [
    "data = data_preprocessing(data)"
   ]
  },
  {
   "cell_type": "code",
   "execution_count": null,
   "metadata": {},
   "outputs": [],
   "source": []
  },
  {
   "cell_type": "code",
   "execution_count": 78,
   "metadata": {},
   "outputs": [],
   "source": [
    "save_data(data, Path(\"data_augmented\"))"
   ]
  },
  {
   "cell_type": "code",
   "execution_count": 79,
   "metadata": {
    "tags": []
   },
   "outputs": [],
   "source": [
    "rolling_aggregates_list = ['air_density_2m:kgm3','dew_point_2m:K','effective_cloud_cover:p','relative_humidity_1000hPa:p','sfc_pressure:hPa','sun_elevation:d','t_1000hPa:K','total_cloud_cover:p']\n",
    "selected_features = ['date_forecast',\n",
    " 'absolute_humidity_2m:gm3',\n",
    " 'air_density_2m:kgm3',\n",
    " 'ceiling_height_agl:m',\n",
    " 'clear_sky_energy_1h:J',\n",
    " 'clear_sky_rad:W',\n",
    " 'cloud_base_agl:m',\n",
    " #'dew_or_rime:idx',\n",
    " 'dew_point_2m:K',\n",
    " 'diffuse_rad:W',\n",
    " 'diffuse_rad_1h:J',\n",
    " 'direct_rad:W',\n",
    " 'direct_rad_1h:J',\n",
    " 'effective_cloud_cover:p',\n",
    " #'elevation:m',\n",
    " #'fresh_snow_12h:cm',\n",
    " #'fresh_snow_1h:cm',\n",
    " 'fresh_snow_24h:cm',\n",
    " #'fresh_snow_3h:cm',\n",
    " #'fresh_snow_6h:cm',\n",
    " #'is_day:idx',\n",
    " #'is_in_shadow:idx',\n",
    " 'msl_pressure:hPa',\n",
    " 'precip_5min:mm',\n",
    " 'precip_type_5min:idx',\n",
    " 'pressure_100m:hPa',\n",
    " #'pressure_50m:hPa',\n",
    " #'prob_rime:p',\n",
    " #'rain_water:kgm2',\n",
    " 'relative_humidity_1000hPa:p',\n",
    " 'sfc_pressure:hPa',\n",
    " 'snow_density:kgm3',\n",
    " #'snow_depth:cm',\n",
    " #'snow_drift:idx',\n",
    " #'snow_melt_10min:mm',\n",
    " 'snow_water:kgm2',\n",
    " 'sun_azimuth:d',\n",
    " 'sun_elevation:d',\n",
    " 'super_cooled_liquid_water:kgm2',\n",
    " 't_1000hPa:K',\n",
    " 'total_cloud_cover:p',\n",
    " 'visibility:m',\n",
    " 'wind_speed_10m:ms',\n",
    " 'wind_speed_u_10m:ms',\n",
    " 'wind_speed_v_10m:ms',\n",
    " #'wind_speed_w_1000hPa:ms',\n",
    " 'dif_dat_rad',\n",
    " 'hour',\n",
    " #'minute',\n",
    " 'month',\n",
    " #'time_decimal',\n",
    " 'hour_sin',\n",
    " #'hour_cos',\n",
    " \"direct_plus_diffuse\",\n",
    " \"direct_plus_diffuse_1h\"\n",
    " ]\n",
    "selected_features.remove('ceiling_height_agl:m')\n",
    "selected_features.remove('cloud_base_agl:m')\n",
    "selected_features.remove('snow_density:kgm3')"
   ]
  },
  {
   "cell_type": "code",
   "execution_count": 80,
   "metadata": {
    "tags": []
   },
   "outputs": [],
   "source": [
    "wanted_months = [3,4,5,6,7,8,9]"
   ]
  },
  {
   "cell_type": "code",
   "execution_count": 82,
   "metadata": {},
   "outputs": [],
   "source": [
    "save_training_data(data, Path(\"train_data\"))"
   ]
  }
 ],
 "metadata": {
  "kernelspec": {
   "display_name": "Python 3 (ipykernel)",
   "language": "python",
   "name": "python3"
  },
  "language_info": {
   "codemirror_mode": {
    "name": "ipython",
    "version": 3
   },
   "file_extension": ".py",
   "mimetype": "text/x-python",
   "name": "python",
   "nbconvert_exporter": "python",
   "pygments_lexer": "ipython3",
   "version": "3.11.4"
  }
 },
 "nbformat": 4,
 "nbformat_minor": 4
}
